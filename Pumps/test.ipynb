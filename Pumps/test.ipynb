{
 "cells": [
  {
   "cell_type": "code",
   "execution_count": 33,
   "metadata": {},
   "outputs": [],
   "source": [
    "FILEPATH = r\"/Users/jamesmoro/Documents/Python/OOP_Python/Pumps/example_curves.xlsx\""
   ]
  },
  {
   "cell_type": "code",
   "execution_count": 34,
   "metadata": {},
   "outputs": [],
   "source": [
    "import pandas as pd\n",
    "from main import PUMP_CURVE_FILEPATH\n",
    "from parse_curve import parse_xylect_curve"
   ]
  },
  {
   "cell_type": "code",
   "execution_count": 35,
   "metadata": {},
   "outputs": [],
   "source": [
    "def show_excel_data(filepath: str):\n",
    "    df = pd.read_excel(filepath)\n",
    "    return df.head()"
   ]
  },
  {
   "cell_type": "code",
   "execution_count": 39,
   "metadata": {},
   "outputs": [],
   "source": [
    "def parse_excel_curve(filepath: str, flow: str, head: str, npshr :str=None, npshr_flow: str=None, efficiency:str=None, efficiency_flow:str=None):\n",
    "    heading_names = {flow:\"Flow [l/s]\", \n",
    "    head:\"Head [m]\", \n",
    "    npshr:\"NPSHR-values [m]\", \n",
    "    npshr_flow:\"NPSHR-Flow [l/s]\",\n",
    "    efficiency:\"Overall Efficiency [%]\",\n",
    "    efficiency_flow: \"Overall Efficiency Flow [l/s\",\n",
    "    }\n",
    "    _pump_curve = pd.read_excel(filepath)\n",
    "    _pump_curve.dropna(axis=0, how=\"all\", inplace = True)\n",
    "    _pump_curve.dropna(axis=1, how=\"all\", inplace = True)\n",
    "    _pump_curve = _pump_curve.rename(columns=_pump_curve.iloc[0]).drop(\n",
    "    _pump_curve.index[0])  # swapping the header names with the first row\n",
    "    _pump_curve.rename(heading_names, axis=1, inplace=True)\n",
    "    _pump_curve_dict = _pump_curve.to_dict(\n",
    "        orient=\"list\"\n",
    "    )  \n",
    "    \n",
    "    return _pump_curve_dict\n"
   ]
  },
  {
   "cell_type": "code",
   "execution_count": 40,
   "metadata": {},
   "outputs": [
    {
     "data": {
      "text/plain": [
       "{'Flow [l/s]': [0, 10, 15, 20, 25],\n",
       " 'Head [m]': [20, 18, 15, 10, 2],\n",
       " 'NPSHr': [1, 1, 2, 5, 9],\n",
       " 'NPSHr Flow': [1, 7, 12, 19, 24],\n",
       " 'Efficiency': [nan, 70, 82, 70, nan],\n",
       " 'Efficiency Flow': [nan, 11, 12, 15, nan]}"
      ]
     },
     "execution_count": 40,
     "metadata": {},
     "output_type": "execute_result"
    }
   ],
   "source": [
    "parse_excel_curve(FILEPATH, \n",
    "flow = \"Flow\",\n",
    "head = \"Head\",\n",
    ")"
   ]
  },
  {
   "cell_type": "code",
   "execution_count": null,
   "metadata": {},
   "outputs": [],
   "source": []
  },
  {
   "cell_type": "code",
   "execution_count": null,
   "metadata": {},
   "outputs": [],
   "source": []
  }
 ],
 "metadata": {
  "interpreter": {
   "hash": "aee8b7b246df8f9039afb4144a1f6fd8d2ca17a180786b69acc140d282b71a49"
  },
  "kernelspec": {
   "display_name": "Python 3.9.6 64-bit",
   "name": "python3"
  },
  "language_info": {
   "codemirror_mode": {
    "name": "ipython",
    "version": 3
   },
   "file_extension": ".py",
   "mimetype": "text/x-python",
   "name": "python",
   "nbconvert_exporter": "python",
   "pygments_lexer": "ipython3",
   "version": "3.9.6"
  },
  "orig_nbformat": 4
 },
 "nbformat": 4,
 "nbformat_minor": 2
}
